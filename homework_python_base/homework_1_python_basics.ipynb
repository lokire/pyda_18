{
 "cells": [
  {
   "cell_type": "code",
   "execution_count": 11,
   "metadata": {},
   "outputs": [
    {
     "name": "stdout",
     "output_type": "stream",
     "text": [
      "Фраза 1 длиннее фразы 2\n"
     ]
    }
   ],
   "source": [
    "#Задание 1, Длина фразы\n",
    "phrase_1 = 'Насколько проще было бы писать программы, если бы не заказчики'\n",
    "phrase_2 = '640Кб должно хватить для любых задач. Билл Гейтс (по легенде)'\n",
    "if len(phrase_1) > len(phrase_2):\n",
    "    print('Фраза 1 длиннее фразы 2')\n",
    "elif len(phrase_1) < len(phrase_2):\n",
    "    print('Фраза 2 длиннее фразы 1')\n",
    "else:\n",
    "    print('Фразы равны')"
   ]
  },
  {
   "cell_type": "code",
   "execution_count": null,
   "metadata": {},
   "outputs": [],
   "source": [
    "#Задание 2, Високосный год\n",
    "year = int(input('Какой год проверим? '))\n",
    "if year%4==0:\n",
    "    print('Ваш год - високосный!')\n",
    "else:\n",
    "    print('Ваш год - обычный')"
   ]
  },
  {
   "cell_type": "code",
   "execution_count": 31,
   "metadata": {},
   "outputs": [
    {
     "name": "stdout",
     "output_type": "stream",
     "text": [
      "Укажите месяц вашего рождения 6\n",
      "Укажите день вашего рождения -6\n",
      "Странная у вас дата\n"
     ]
    }
   ],
   "source": [
    "#Задание 3, Гороскоп\n",
    "month = int(input('Укажите месяц вашего рождения '))\n",
    "date = int(input('Укажите день вашего рождения '))\n",
    "if month==1:\n",
    "    if 21<=date<=31:\n",
    "        print('Водолей')\n",
    "    elif 1<=date <21:\n",
    "        print('Козерог')\n",
    "    else:\n",
    "        print('Странная у вас дата')\n",
    "elif month==2:\n",
    "    if 20<=date<=29:\n",
    "        print('Рыбы')\n",
    "    elif 1<=date>29:\n",
    "        print('В феврале нет так много дней')\n",
    "    elif 1<=date <20:\n",
    "        print('Водолей')\n",
    "    else:\n",
    "        print('Странная у вас дата')\n",
    "elif month==3:\n",
    "    if 21<=date<=31:\n",
    "        print('Овен')\n",
    "    elif 1<=date<21:\n",
    "        print('Рыбы')\n",
    "    else:\n",
    "        print('Странная у вас дата')\n",
    "elif month==4:\n",
    "    if 21<=date<=30:\n",
    "        print('Телец')\n",
    "    elif 1<=date<21:\n",
    "        print('Овен')\n",
    "    else:\n",
    "        print('Странная у вас дата')\n",
    "elif month==5:\n",
    "    if 22<=date<=31:\n",
    "        print('Близнецы')\n",
    "    elif 1<=date<22:\n",
    "        print('Телец')\n",
    "    else:\n",
    "        print('Странная у вас дата')\n",
    "elif month==6:\n",
    "    if 22<=date<=30:\n",
    "        print('Рак')\n",
    "    elif 1<=date<22:\n",
    "        print('Близнецы')\n",
    "    else:\n",
    "        print('Странная у вас дата')\n",
    "elif month==7:\n",
    "    if 23<=date<=31:\n",
    "        print('Лев')\n",
    "    elif 1<=date<23:\n",
    "        print('Рак')\n",
    "    else:\n",
    "        print('Странная у вас дата')\n",
    "elif month==8:\n",
    "    if 24<=date<=31:\n",
    "        print('Дева')\n",
    "    elif 1<=date<24:\n",
    "        print('Лев')\n",
    "    else:\n",
    "        print('Странная у вас дата')\n",
    "elif month==9:\n",
    "    if 24<=date<=30:\n",
    "        print('Весы')\n",
    "    elif 1<=date<24:\n",
    "        print('Дева')\n",
    "    else:\n",
    "        print('Странная у вас дата')\n",
    "elif month==10:\n",
    "    if 24<=date<=31:\n",
    "        print('Скорпион')\n",
    "    elif 1<=date<24:\n",
    "        print('Весы')\n",
    "    else:\n",
    "        print('Странная у вас дата')\n",
    "elif month==11:\n",
    "    if 23<=date<=30:\n",
    "        print('Стрелец')\n",
    "    elif 1<=date<23:\n",
    "        print('Скорпион')\n",
    "    else:\n",
    "        print('Странная у вас дата')\n",
    "elif month==12:\n",
    "    if 23<=date<=31:\n",
    "        print('Козерог')\n",
    "    elif 1<=date<23:\n",
    "        print('Стрелец')\n",
    "    else:\n",
    "        print('Странная у вас дата')\n",
    "else: \n",
    "    print('Странный у вас месяц')"
   ]
  },
  {
   "cell_type": "code",
   "execution_count": 47,
   "metadata": {},
   "outputs": [
    {
     "name": "stdout",
     "output_type": "stream",
     "text": [
      "Введите длину: 202\n",
      "Введите ширину: 30\n",
      "Введите высоту: 40\n",
      "Коробка для лыж\n"
     ]
    }
   ],
   "source": [
    "length = int(input('Введите длину: '))\n",
    "width = int(input('Введите ширину: '))\n",
    "height = int(input('Введите высоту: '))\n",
    "if length > 200:\n",
    "    print('Коробка для лыж')\n",
    "elif(15<length<50) or (15<width<50) or (15<height<50):\n",
    "    print('Вам подходит Короб 2')\n",
    "elif length<15 and width<15 and height <15:\n",
    "    print('Короб 1')\n",
    "else:\n",
    "    print('Стандартный короб 3')"
   ]
  }
 ],
 "metadata": {
  "kernelspec": {
   "display_name": "Python 3",
   "language": "python",
   "name": "python3"
  },
  "language_info": {
   "codemirror_mode": {
    "name": "ipython",
    "version": 3
   },
   "file_extension": ".py",
   "mimetype": "text/x-python",
   "name": "python",
   "nbconvert_exporter": "python",
   "pygments_lexer": "ipython3",
   "version": "3.7.6"
  }
 },
 "nbformat": 4,
 "nbformat_minor": 4
}
